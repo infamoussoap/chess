{
 "cells": [
  {
   "cell_type": "code",
   "execution_count": 1,
   "metadata": {},
   "outputs": [],
   "source": [
    "from Chess import Pieces\n",
    "from Chess import Board"
   ]
  },
  {
   "cell_type": "code",
   "execution_count": 2,
   "metadata": {},
   "outputs": [
    {
     "name": "stdout",
     "output_type": "stream",
     "text": [
      " |---|---|---|---|---|---|---|---|\n",
      "8| ♜ | ♞ | ♝ | ♛ | ♚ | ♝ | ♞ | ♜ |\n",
      " |---|---|---|---|---|---|---|---|\n",
      "7| ♟ | ♟ | ♟ | ♟ | ♟ | ♟ | ♟ | ♟ |\n",
      " |---|---|---|---|---|---|---|---|\n",
      "6|   |   |   |   |   |   |   |   |\n",
      " |---|---|---|---|---|---|---|---|\n",
      "5|   |   |   |   |   |   |   |   |\n",
      " |---|---|---|---|---|---|---|---|\n",
      "4|   |   |   |   |   |   |   |   |\n",
      " |---|---|---|---|---|---|---|---|\n",
      "3|   |   |   |   |   |   |   |   |\n",
      " |---|---|---|---|---|---|---|---|\n",
      "2| ♙ | ♙ | ♙ | ♙ | ♙ | ♙ | ♙ | ♙ |\n",
      " |---|---|---|---|---|---|---|---|\n",
      "1| ♖ | ♘ | ♗ | ♕ | ♔ | ♗ | ♘ | ♖ |\n",
      " |---|---|---|---|---|---|---|---|\n",
      "   a   b   c   d   e   f   g   h \n"
     ]
    }
   ],
   "source": [
    "board = Board()\n",
    "board.reset()\n",
    "\n",
    "board.display()"
   ]
  },
  {
   "cell_type": "code",
   "execution_count": 3,
   "metadata": {},
   "outputs": [
    {
     "name": "stdout",
     "output_type": "stream",
     "text": [
      " |---|---|---|---|---|---|---|---|\n",
      "8| ♜ | ♞ | ♝ | ♛ | ♚ | ♝ | ♞ | ♜ |\n",
      " |---|---|---|---|---|---|---|---|\n",
      "7| ♟ | ♟ | ♟ | ♟ | ♟ | ♟ | ♟ | ♟ |\n",
      " |---|---|---|---|---|---|---|---|\n",
      "6|   |   |   |   |   |   |   |   |\n",
      " |---|---|---|---|---|---|---|---|\n",
      "5|   |   |   |   |   |   |   |   |\n",
      " |---|---|---|---|---|---|---|---|\n",
      "4|   |   |   |   | ♙ |   |   |   |\n",
      " |---|---|---|---|---|---|---|---|\n",
      "3|   |   |   |   |   |   |   |   |\n",
      " |---|---|---|---|---|---|---|---|\n",
      "2| ♙ | ♙ | ♙ | ♙ |   | ♙ | ♙ | ♙ |\n",
      " |---|---|---|---|---|---|---|---|\n",
      "1| ♖ | ♘ | ♗ | ♕ | ♔ | ♗ | ♘ | ♖ |\n",
      " |---|---|---|---|---|---|---|---|\n",
      "   a   b   c   d   e   f   g   h \n"
     ]
    }
   ],
   "source": [
    "board.move(\"e2-e4\")\n",
    "board.display()"
   ]
  },
  {
   "cell_type": "code",
   "execution_count": 4,
   "metadata": {},
   "outputs": [
    {
     "name": "stdout",
     "output_type": "stream",
     "text": [
      " |---|---|---|---|---|---|---|---|\n",
      "8| ♜ | ♞ | ♝ | ♛ | ♚ | ♝ | ♞ | ♜ |\n",
      " |---|---|---|---|---|---|---|---|\n",
      "7| ♟ | ♟ | ♟ | ♟ |   | ♟ | ♟ | ♟ |\n",
      " |---|---|---|---|---|---|---|---|\n",
      "6|   |   |   |   |   |   |   |   |\n",
      " |---|---|---|---|---|---|---|---|\n",
      "5|   |   |   |   | ♟ |   |   |   |\n",
      " |---|---|---|---|---|---|---|---|\n",
      "4|   |   |   |   | ♙ |   |   |   |\n",
      " |---|---|---|---|---|---|---|---|\n",
      "3|   |   |   |   |   |   |   |   |\n",
      " |---|---|---|---|---|---|---|---|\n",
      "2| ♙ | ♙ | ♙ | ♙ |   | ♙ | ♙ | ♙ |\n",
      " |---|---|---|---|---|---|---|---|\n",
      "1| ♖ | ♘ | ♗ | ♕ | ♔ | ♗ | ♘ | ♖ |\n",
      " |---|---|---|---|---|---|---|---|\n",
      "   a   b   c   d   e   f   g   h \n"
     ]
    }
   ],
   "source": [
    "board.move(\"e7-e5\")\n",
    "board.display()"
   ]
  },
  {
   "cell_type": "code",
   "execution_count": 5,
   "metadata": {},
   "outputs": [
    {
     "name": "stdout",
     "output_type": "stream",
     "text": [
      " |---|---|---|---|---|---|---|---|\n",
      "8| ♜ | ♞ | ♝ | ♛ | ♚ | ♝ | ♞ | ♜ |\n",
      " |---|---|---|---|---|---|---|---|\n",
      "7| ♟ | ♟ | ♟ | ♟ |   | ♟ | ♟ | ♟ |\n",
      " |---|---|---|---|---|---|---|---|\n",
      "6|   |   |   |   |   |   |   |   |\n",
      " |---|---|---|---|---|---|---|---|\n",
      "5|   |   |   |   | ♟ |   |   |   |\n",
      " |---|---|---|---|---|---|---|---|\n",
      "4|   |   |   |   | ♙ |   |   |   |\n",
      " |---|---|---|---|---|---|---|---|\n",
      "3|   |   |   |   |   | ♘ |   |   |\n",
      " |---|---|---|---|---|---|---|---|\n",
      "2| ♙ | ♙ | ♙ | ♙ |   | ♙ | ♙ | ♙ |\n",
      " |---|---|---|---|---|---|---|---|\n",
      "1| ♖ | ♘ | ♗ | ♕ | ♔ | ♗ |   | ♖ |\n",
      " |---|---|---|---|---|---|---|---|\n",
      "   a   b   c   d   e   f   g   h \n"
     ]
    }
   ],
   "source": [
    "board.move(\"g1-f3\")\n",
    "board.display()"
   ]
  },
  {
   "cell_type": "code",
   "execution_count": 6,
   "metadata": {},
   "outputs": [
    {
     "name": "stdout",
     "output_type": "stream",
     "text": [
      " |---|---|---|---|---|---|---|---|\n",
      "8| ♜ | ♞ | ♝ | ♛ | ♚ | ♝ | ♞ | ♜ |\n",
      " |---|---|---|---|---|---|---|---|\n",
      "7| ♟ | ♟ | ♟ | ♟ |   |   | ♟ | ♟ |\n",
      " |---|---|---|---|---|---|---|---|\n",
      "6|   |   |   |   |   | ♟ |   |   |\n",
      " |---|---|---|---|---|---|---|---|\n",
      "5|   |   |   |   | ♟ |   |   |   |\n",
      " |---|---|---|---|---|---|---|---|\n",
      "4|   |   |   |   | ♙ |   |   |   |\n",
      " |---|---|---|---|---|---|---|---|\n",
      "3|   |   |   |   |   | ♘ |   |   |\n",
      " |---|---|---|---|---|---|---|---|\n",
      "2| ♙ | ♙ | ♙ | ♙ |   | ♙ | ♙ | ♙ |\n",
      " |---|---|---|---|---|---|---|---|\n",
      "1| ♖ | ♘ | ♗ | ♕ | ♔ | ♗ |   | ♖ |\n",
      " |---|---|---|---|---|---|---|---|\n",
      "   a   b   c   d   e   f   g   h \n"
     ]
    }
   ],
   "source": [
    "board.move(\"f7-f6\")\n",
    "board.display()"
   ]
  },
  {
   "cell_type": "code",
   "execution_count": 7,
   "metadata": {},
   "outputs": [
    {
     "ename": "ValueError",
     "evalue": "Invalid Move: Pawn cannot move more than 2 squares vertically",
     "output_type": "error",
     "traceback": [
      "\u001b[0;31m---------------------------------------------------------------------------\u001b[0m",
      "\u001b[0;31mValueError\u001b[0m                                Traceback (most recent call last)",
      "\u001b[0;32m<ipython-input-7-a9bfc9789974>\u001b[0m in \u001b[0;36m<module>\u001b[0;34m\u001b[0m\n\u001b[0;32m----> 1\u001b[0;31m \u001b[0mboard\u001b[0m\u001b[0;34m.\u001b[0m\u001b[0mmove\u001b[0m\u001b[0;34m(\u001b[0m\u001b[0;34m\"d2-d5\"\u001b[0m\u001b[0;34m)\u001b[0m\u001b[0;34m\u001b[0m\u001b[0;34m\u001b[0m\u001b[0m\n\u001b[0m",
      "\u001b[0;32m~/git/chess/Chess/Board.py\u001b[0m in \u001b[0;36mmove\u001b[0;34m(self, move)\u001b[0m\n\u001b[1;32m     48\u001b[0m             \u001b[0mself\u001b[0m\u001b[0;34m[\u001b[0m\u001b[0mend_pos\u001b[0m\u001b[0;34m]\u001b[0m\u001b[0;34m.\u001b[0m\u001b[0mmove_count\u001b[0m \u001b[0;34m+=\u001b[0m \u001b[0;36m1\u001b[0m\u001b[0;34m\u001b[0m\u001b[0;34m\u001b[0m\u001b[0m\n\u001b[1;32m     49\u001b[0m         \u001b[0;32melse\u001b[0m\u001b[0;34m:\u001b[0m\u001b[0;34m\u001b[0m\u001b[0;34m\u001b[0m\u001b[0m\n\u001b[0;32m---> 50\u001b[0;31m             \u001b[0;32mraise\u001b[0m \u001b[0mValueError\u001b[0m\u001b[0;34m(\u001b[0m\u001b[0;34mf\"Invalid Move: {move_message}\"\u001b[0m\u001b[0;34m)\u001b[0m\u001b[0;34m\u001b[0m\u001b[0;34m\u001b[0m\u001b[0m\n\u001b[0m\u001b[1;32m     51\u001b[0m \u001b[0;34m\u001b[0m\u001b[0m\n\u001b[1;32m     52\u001b[0m         \u001b[0mself\u001b[0m\u001b[0;34m.\u001b[0m\u001b[0mmove_count\u001b[0m \u001b[0;34m+=\u001b[0m \u001b[0;36m1\u001b[0m\u001b[0;34m\u001b[0m\u001b[0;34m\u001b[0m\u001b[0m\n",
      "\u001b[0;31mValueError\u001b[0m: Invalid Move: Pawn cannot move more than 2 squares vertically"
     ]
    }
   ],
   "source": [
    "board.move(\"d2-d5\")"
   ]
  },
  {
   "cell_type": "code",
   "execution_count": 8,
   "metadata": {},
   "outputs": [
    {
     "ename": "AssertionError",
     "evalue": "White to move",
     "output_type": "error",
     "traceback": [
      "\u001b[0;31m---------------------------------------------------------------------------\u001b[0m",
      "\u001b[0;31mAssertionError\u001b[0m                            Traceback (most recent call last)",
      "\u001b[0;32m<ipython-input-8-2644666f12a2>\u001b[0m in \u001b[0;36m<module>\u001b[0;34m\u001b[0m\n\u001b[0;32m----> 1\u001b[0;31m \u001b[0mboard\u001b[0m\u001b[0;34m.\u001b[0m\u001b[0mmove\u001b[0m\u001b[0;34m(\u001b[0m\u001b[0;34m\"d7-d5\"\u001b[0m\u001b[0;34m)\u001b[0m\u001b[0;34m\u001b[0m\u001b[0;34m\u001b[0m\u001b[0m\n\u001b[0m",
      "\u001b[0;32m~/git/chess/Chess/Board.py\u001b[0m in \u001b[0;36mmove\u001b[0;34m(self, move)\u001b[0m\n\u001b[1;32m     37\u001b[0m \u001b[0;34m\u001b[0m\u001b[0m\n\u001b[1;32m     38\u001b[0m         \u001b[0;32mif\u001b[0m \u001b[0mself\u001b[0m\u001b[0;34m.\u001b[0m\u001b[0mmove_count\u001b[0m \u001b[0;34m%\u001b[0m \u001b[0;36m2\u001b[0m \u001b[0;34m==\u001b[0m \u001b[0;36m0\u001b[0m\u001b[0;34m:\u001b[0m  \u001b[0;31m# White to move\u001b[0m\u001b[0;34m\u001b[0m\u001b[0;34m\u001b[0m\u001b[0m\n\u001b[0;32m---> 39\u001b[0;31m             \u001b[0;32massert\u001b[0m \u001b[0mself\u001b[0m\u001b[0;34m[\u001b[0m\u001b[0mstart_pos\u001b[0m\u001b[0;34m]\u001b[0m\u001b[0;34m.\u001b[0m\u001b[0mcolor\u001b[0m \u001b[0;34m==\u001b[0m \u001b[0;34m'white'\u001b[0m\u001b[0;34m,\u001b[0m \u001b[0;34m\"White to move\"\u001b[0m\u001b[0;34m\u001b[0m\u001b[0;34m\u001b[0m\u001b[0m\n\u001b[0m\u001b[1;32m     40\u001b[0m         \u001b[0;32melse\u001b[0m\u001b[0;34m:\u001b[0m  \u001b[0;31m# Black to move\u001b[0m\u001b[0;34m\u001b[0m\u001b[0;34m\u001b[0m\u001b[0m\n\u001b[1;32m     41\u001b[0m             \u001b[0;32massert\u001b[0m \u001b[0mself\u001b[0m\u001b[0;34m[\u001b[0m\u001b[0mstart_pos\u001b[0m\u001b[0;34m]\u001b[0m\u001b[0;34m.\u001b[0m\u001b[0mcolor\u001b[0m \u001b[0;34m==\u001b[0m \u001b[0;34m'black'\u001b[0m\u001b[0;34m,\u001b[0m \u001b[0;34m\"Black to move\"\u001b[0m\u001b[0;34m\u001b[0m\u001b[0;34m\u001b[0m\u001b[0m\n",
      "\u001b[0;31mAssertionError\u001b[0m: White to move"
     ]
    }
   ],
   "source": [
    "board.move(\"d7-d5\")"
   ]
  },
  {
   "cell_type": "code",
   "execution_count": null,
   "metadata": {},
   "outputs": [],
   "source": []
  }
 ],
 "metadata": {
  "kernelspec": {
   "display_name": "Python 3",
   "language": "python",
   "name": "python3"
  },
  "language_info": {
   "codemirror_mode": {
    "name": "ipython",
    "version": 3
   },
   "file_extension": ".py",
   "mimetype": "text/x-python",
   "name": "python",
   "nbconvert_exporter": "python",
   "pygments_lexer": "ipython3",
   "version": "3.7.6"
  }
 },
 "nbformat": 4,
 "nbformat_minor": 4
}
